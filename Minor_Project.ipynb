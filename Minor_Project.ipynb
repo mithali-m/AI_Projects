{
 "cells": [
  {
   "cell_type": "markdown",
   "metadata": {},
   "source": [
    "# Minor Project - Twitter User Gender Classification"
   ]
  },
  {
   "cell_type": "markdown",
   "metadata": {},
   "source": [
    "Here, Twitter user gender classification is done by building a artificial neural network using sklearn and tensorflow."
   ]
  },
  {
   "cell_type": "markdown",
   "metadata": {},
   "source": [
    "### Importing Libraries"
   ]
  },
  {
   "cell_type": "code",
   "execution_count": 1,
   "metadata": {},
   "outputs": [],
   "source": [
    "# importing necessary libraries\n",
    "import numpy as np\n",
    "import pandas as pd\n",
    "import matplotlib.pyplot as plt\n",
    "import seaborn as sns\n",
    "%matplotlib inline"
   ]
  },
  {
   "cell_type": "markdown",
   "metadata": {},
   "source": [
    "### Reading the dataset"
   ]
  },
  {
   "cell_type": "code",
   "execution_count": 2,
   "metadata": {},
   "outputs": [],
   "source": [
    "# reading the dataset from csv file\n",
    "df = pd.read_csv(r'C:\\Users\\Manjunath\\gender_classifier.csv',encoding='latin-1')"
   ]
  },
  {
   "cell_type": "code",
   "execution_count": 3,
   "metadata": {},
   "outputs": [
    {
     "data": {
      "text/html": [
       "<div>\n",
       "<style scoped>\n",
       "    .dataframe tbody tr th:only-of-type {\n",
       "        vertical-align: middle;\n",
       "    }\n",
       "\n",
       "    .dataframe tbody tr th {\n",
       "        vertical-align: top;\n",
       "    }\n",
       "\n",
       "    .dataframe thead th {\n",
       "        text-align: right;\n",
       "    }\n",
       "</style>\n",
       "<table border=\"1\" class=\"dataframe\">\n",
       "  <thead>\n",
       "    <tr style=\"text-align: right;\">\n",
       "      <th></th>\n",
       "      <th>_unit_id</th>\n",
       "      <th>_golden</th>\n",
       "      <th>_unit_state</th>\n",
       "      <th>_trusted_judgments</th>\n",
       "      <th>_last_judgment_at</th>\n",
       "      <th>gender</th>\n",
       "      <th>gender:confidence</th>\n",
       "      <th>profile_yn</th>\n",
       "      <th>profile_yn:confidence</th>\n",
       "      <th>created</th>\n",
       "      <th>...</th>\n",
       "      <th>profileimage</th>\n",
       "      <th>retweet_count</th>\n",
       "      <th>sidebar_color</th>\n",
       "      <th>text</th>\n",
       "      <th>tweet_coord</th>\n",
       "      <th>tweet_count</th>\n",
       "      <th>tweet_created</th>\n",
       "      <th>tweet_id</th>\n",
       "      <th>tweet_location</th>\n",
       "      <th>user_timezone</th>\n",
       "    </tr>\n",
       "  </thead>\n",
       "  <tbody>\n",
       "    <tr>\n",
       "      <td>0</td>\n",
       "      <td>815719226</td>\n",
       "      <td>False</td>\n",
       "      <td>finalized</td>\n",
       "      <td>3</td>\n",
       "      <td>10/26/2015 23:24</td>\n",
       "      <td>male</td>\n",
       "      <td>1.0000</td>\n",
       "      <td>yes</td>\n",
       "      <td>1.0</td>\n",
       "      <td>12/5/2013 1:48</td>\n",
       "      <td>...</td>\n",
       "      <td>https://pbs.twimg.com/profile_images/414342229...</td>\n",
       "      <td>0</td>\n",
       "      <td>FFFFFF</td>\n",
       "      <td>Robbie E Responds To Critics After Win Against...</td>\n",
       "      <td>NaN</td>\n",
       "      <td>110964</td>\n",
       "      <td>10/26/2015 12:40</td>\n",
       "      <td>6.590000e+17</td>\n",
       "      <td>main; @Kan1shk3</td>\n",
       "      <td>Chennai</td>\n",
       "    </tr>\n",
       "    <tr>\n",
       "      <td>1</td>\n",
       "      <td>815719227</td>\n",
       "      <td>False</td>\n",
       "      <td>finalized</td>\n",
       "      <td>3</td>\n",
       "      <td>10/26/2015 23:30</td>\n",
       "      <td>male</td>\n",
       "      <td>1.0000</td>\n",
       "      <td>yes</td>\n",
       "      <td>1.0</td>\n",
       "      <td>10/1/2012 13:51</td>\n",
       "      <td>...</td>\n",
       "      <td>https://pbs.twimg.com/profile_images/539604221...</td>\n",
       "      <td>0</td>\n",
       "      <td>C0DEED</td>\n",
       "      <td>ÛÏIt felt like they were my friends and I was...</td>\n",
       "      <td>NaN</td>\n",
       "      <td>7471</td>\n",
       "      <td>10/26/2015 12:40</td>\n",
       "      <td>6.590000e+17</td>\n",
       "      <td>NaN</td>\n",
       "      <td>Eastern Time (US &amp; Canada)</td>\n",
       "    </tr>\n",
       "    <tr>\n",
       "      <td>2</td>\n",
       "      <td>815719228</td>\n",
       "      <td>False</td>\n",
       "      <td>finalized</td>\n",
       "      <td>3</td>\n",
       "      <td>10/26/2015 23:33</td>\n",
       "      <td>male</td>\n",
       "      <td>0.6625</td>\n",
       "      <td>yes</td>\n",
       "      <td>1.0</td>\n",
       "      <td>11/28/2014 11:30</td>\n",
       "      <td>...</td>\n",
       "      <td>https://pbs.twimg.com/profile_images/657330418...</td>\n",
       "      <td>1</td>\n",
       "      <td>C0DEED</td>\n",
       "      <td>i absolutely adore when louis starts the songs...</td>\n",
       "      <td>NaN</td>\n",
       "      <td>5617</td>\n",
       "      <td>10/26/2015 12:40</td>\n",
       "      <td>6.590000e+17</td>\n",
       "      <td>clcncl</td>\n",
       "      <td>Belgrade</td>\n",
       "    </tr>\n",
       "  </tbody>\n",
       "</table>\n",
       "<p>3 rows × 26 columns</p>\n",
       "</div>"
      ],
      "text/plain": [
       "    _unit_id  _golden _unit_state  _trusted_judgments _last_judgment_at  \\\n",
       "0  815719226    False   finalized                   3  10/26/2015 23:24   \n",
       "1  815719227    False   finalized                   3  10/26/2015 23:30   \n",
       "2  815719228    False   finalized                   3  10/26/2015 23:33   \n",
       "\n",
       "  gender  gender:confidence profile_yn  profile_yn:confidence  \\\n",
       "0   male             1.0000        yes                    1.0   \n",
       "1   male             1.0000        yes                    1.0   \n",
       "2   male             0.6625        yes                    1.0   \n",
       "\n",
       "            created  ...                                       profileimage  \\\n",
       "0    12/5/2013 1:48  ...  https://pbs.twimg.com/profile_images/414342229...   \n",
       "1   10/1/2012 13:51  ...  https://pbs.twimg.com/profile_images/539604221...   \n",
       "2  11/28/2014 11:30  ...  https://pbs.twimg.com/profile_images/657330418...   \n",
       "\n",
       "   retweet_count sidebar_color  \\\n",
       "0              0        FFFFFF   \n",
       "1              0        C0DEED   \n",
       "2              1        C0DEED   \n",
       "\n",
       "                                                text tweet_coord tweet_count  \\\n",
       "0  Robbie E Responds To Critics After Win Against...         NaN      110964   \n",
       "1  ÛÏIt felt like they were my friends and I was...         NaN        7471   \n",
       "2  i absolutely adore when louis starts the songs...         NaN        5617   \n",
       "\n",
       "      tweet_created      tweet_id   tweet_location               user_timezone  \n",
       "0  10/26/2015 12:40  6.590000e+17  main; @Kan1shk3                     Chennai  \n",
       "1  10/26/2015 12:40  6.590000e+17              NaN  Eastern Time (US & Canada)  \n",
       "2  10/26/2015 12:40  6.590000e+17           clcncl                    Belgrade  \n",
       "\n",
       "[3 rows x 26 columns]"
      ]
     },
     "execution_count": 3,
     "metadata": {},
     "output_type": "execute_result"
    }
   ],
   "source": [
    "# displaying 1st 3 rows of the dataset\n",
    "df.head(3)"
   ]
  },
  {
   "cell_type": "code",
   "execution_count": 4,
   "metadata": {},
   "outputs": [
    {
     "data": {
      "text/html": [
       "<div>\n",
       "<style scoped>\n",
       "    .dataframe tbody tr th:only-of-type {\n",
       "        vertical-align: middle;\n",
       "    }\n",
       "\n",
       "    .dataframe tbody tr th {\n",
       "        vertical-align: top;\n",
       "    }\n",
       "\n",
       "    .dataframe thead th {\n",
       "        text-align: right;\n",
       "    }\n",
       "</style>\n",
       "<table border=\"1\" class=\"dataframe\">\n",
       "  <thead>\n",
       "    <tr style=\"text-align: right;\">\n",
       "      <th></th>\n",
       "      <th>_unit_id</th>\n",
       "      <th>_trusted_judgments</th>\n",
       "      <th>gender:confidence</th>\n",
       "      <th>profile_yn:confidence</th>\n",
       "      <th>fav_number</th>\n",
       "      <th>retweet_count</th>\n",
       "      <th>tweet_count</th>\n",
       "      <th>tweet_id</th>\n",
       "    </tr>\n",
       "  </thead>\n",
       "  <tbody>\n",
       "    <tr>\n",
       "      <td>count</td>\n",
       "      <td>2.005000e+04</td>\n",
       "      <td>20050.000000</td>\n",
       "      <td>20024.000000</td>\n",
       "      <td>20050.000000</td>\n",
       "      <td>20050.000000</td>\n",
       "      <td>20050.000000</td>\n",
       "      <td>2.005000e+04</td>\n",
       "      <td>2.005000e+04</td>\n",
       "    </tr>\n",
       "    <tr>\n",
       "      <td>mean</td>\n",
       "      <td>8.157294e+08</td>\n",
       "      <td>3.615711</td>\n",
       "      <td>0.882756</td>\n",
       "      <td>0.993221</td>\n",
       "      <td>4382.201646</td>\n",
       "      <td>0.079401</td>\n",
       "      <td>3.892469e+04</td>\n",
       "      <td>6.590000e+17</td>\n",
       "    </tr>\n",
       "    <tr>\n",
       "      <td>std</td>\n",
       "      <td>6.000801e+03</td>\n",
       "      <td>12.331890</td>\n",
       "      <td>0.191403</td>\n",
       "      <td>0.047168</td>\n",
       "      <td>12518.575919</td>\n",
       "      <td>2.649751</td>\n",
       "      <td>1.168371e+05</td>\n",
       "      <td>1.536038e+05</td>\n",
       "    </tr>\n",
       "    <tr>\n",
       "      <td>min</td>\n",
       "      <td>8.157192e+08</td>\n",
       "      <td>3.000000</td>\n",
       "      <td>0.000000</td>\n",
       "      <td>0.627200</td>\n",
       "      <td>0.000000</td>\n",
       "      <td>0.000000</td>\n",
       "      <td>1.000000e+00</td>\n",
       "      <td>6.590000e+17</td>\n",
       "    </tr>\n",
       "    <tr>\n",
       "      <td>25%</td>\n",
       "      <td>8.157243e+08</td>\n",
       "      <td>3.000000</td>\n",
       "      <td>0.677800</td>\n",
       "      <td>1.000000</td>\n",
       "      <td>11.000000</td>\n",
       "      <td>0.000000</td>\n",
       "      <td>2.398000e+03</td>\n",
       "      <td>6.590000e+17</td>\n",
       "    </tr>\n",
       "    <tr>\n",
       "      <td>50%</td>\n",
       "      <td>8.157294e+08</td>\n",
       "      <td>3.000000</td>\n",
       "      <td>1.000000</td>\n",
       "      <td>1.000000</td>\n",
       "      <td>456.000000</td>\n",
       "      <td>0.000000</td>\n",
       "      <td>1.144150e+04</td>\n",
       "      <td>6.590000e+17</td>\n",
       "    </tr>\n",
       "    <tr>\n",
       "      <td>75%</td>\n",
       "      <td>8.157345e+08</td>\n",
       "      <td>3.000000</td>\n",
       "      <td>1.000000</td>\n",
       "      <td>1.000000</td>\n",
       "      <td>3315.500000</td>\n",
       "      <td>0.000000</td>\n",
       "      <td>4.002750e+04</td>\n",
       "      <td>6.590000e+17</td>\n",
       "    </tr>\n",
       "    <tr>\n",
       "      <td>max</td>\n",
       "      <td>8.157580e+08</td>\n",
       "      <td>274.000000</td>\n",
       "      <td>1.000000</td>\n",
       "      <td>1.000000</td>\n",
       "      <td>341621.000000</td>\n",
       "      <td>330.000000</td>\n",
       "      <td>2.680199e+06</td>\n",
       "      <td>6.590000e+17</td>\n",
       "    </tr>\n",
       "  </tbody>\n",
       "</table>\n",
       "</div>"
      ],
      "text/plain": [
       "           _unit_id  _trusted_judgments  gender:confidence  \\\n",
       "count  2.005000e+04        20050.000000       20024.000000   \n",
       "mean   8.157294e+08            3.615711           0.882756   \n",
       "std    6.000801e+03           12.331890           0.191403   \n",
       "min    8.157192e+08            3.000000           0.000000   \n",
       "25%    8.157243e+08            3.000000           0.677800   \n",
       "50%    8.157294e+08            3.000000           1.000000   \n",
       "75%    8.157345e+08            3.000000           1.000000   \n",
       "max    8.157580e+08          274.000000           1.000000   \n",
       "\n",
       "       profile_yn:confidence     fav_number  retweet_count   tweet_count  \\\n",
       "count           20050.000000   20050.000000   20050.000000  2.005000e+04   \n",
       "mean                0.993221    4382.201646       0.079401  3.892469e+04   \n",
       "std                 0.047168   12518.575919       2.649751  1.168371e+05   \n",
       "min                 0.627200       0.000000       0.000000  1.000000e+00   \n",
       "25%                 1.000000      11.000000       0.000000  2.398000e+03   \n",
       "50%                 1.000000     456.000000       0.000000  1.144150e+04   \n",
       "75%                 1.000000    3315.500000       0.000000  4.002750e+04   \n",
       "max                 1.000000  341621.000000     330.000000  2.680199e+06   \n",
       "\n",
       "           tweet_id  \n",
       "count  2.005000e+04  \n",
       "mean   6.590000e+17  \n",
       "std    1.536038e+05  \n",
       "min    6.590000e+17  \n",
       "25%    6.590000e+17  \n",
       "50%    6.590000e+17  \n",
       "75%    6.590000e+17  \n",
       "max    6.590000e+17  "
      ]
     },
     "execution_count": 4,
     "metadata": {},
     "output_type": "execute_result"
    }
   ],
   "source": [
    "# summary statistics \n",
    "df.describe()"
   ]
  },
  {
   "cell_type": "code",
   "execution_count": 5,
   "metadata": {},
   "outputs": [
    {
     "data": {
      "text/plain": [
       "Index(['_unit_id', '_golden', '_unit_state', '_trusted_judgments',\n",
       "       '_last_judgment_at', 'gender', 'gender:confidence', 'profile_yn',\n",
       "       'profile_yn:confidence', 'created', 'description', 'fav_number',\n",
       "       'gender_gold', 'link_color', 'name', 'profile_yn_gold', 'profileimage',\n",
       "       'retweet_count', 'sidebar_color', 'text', 'tweet_coord', 'tweet_count',\n",
       "       'tweet_created', 'tweet_id', 'tweet_location', 'user_timezone'],\n",
       "      dtype='object')"
      ]
     },
     "execution_count": 5,
     "metadata": {},
     "output_type": "execute_result"
    }
   ],
   "source": [
    "# displaying all the column names in the dataset\n",
    "df.columns"
   ]
  },
  {
   "cell_type": "markdown",
   "metadata": {},
   "source": [
    "### Feature Selection"
   ]
  },
  {
   "cell_type": "code",
   "execution_count": 6,
   "metadata": {},
   "outputs": [],
   "source": [
    "# feature selection\n",
    "data=pd.read_csv(r'C:\\Users\\Manjunath\\gender_classifier.csv',usecols=[0,1,3,5,6,10,11,13,17,18,19,21],encoding='latin-1')"
   ]
  },
  {
   "cell_type": "code",
   "execution_count": 7,
   "metadata": {},
   "outputs": [
    {
     "data": {
      "text/html": [
       "<div>\n",
       "<style scoped>\n",
       "    .dataframe tbody tr th:only-of-type {\n",
       "        vertical-align: middle;\n",
       "    }\n",
       "\n",
       "    .dataframe tbody tr th {\n",
       "        vertical-align: top;\n",
       "    }\n",
       "\n",
       "    .dataframe thead th {\n",
       "        text-align: right;\n",
       "    }\n",
       "</style>\n",
       "<table border=\"1\" class=\"dataframe\">\n",
       "  <thead>\n",
       "    <tr style=\"text-align: right;\">\n",
       "      <th></th>\n",
       "      <th>_unit_id</th>\n",
       "      <th>_golden</th>\n",
       "      <th>_trusted_judgments</th>\n",
       "      <th>gender</th>\n",
       "      <th>gender:confidence</th>\n",
       "      <th>description</th>\n",
       "      <th>fav_number</th>\n",
       "      <th>link_color</th>\n",
       "      <th>retweet_count</th>\n",
       "      <th>sidebar_color</th>\n",
       "      <th>text</th>\n",
       "      <th>tweet_count</th>\n",
       "    </tr>\n",
       "  </thead>\n",
       "  <tbody>\n",
       "    <tr>\n",
       "      <td>0</td>\n",
       "      <td>815719226</td>\n",
       "      <td>False</td>\n",
       "      <td>3</td>\n",
       "      <td>male</td>\n",
       "      <td>1.0000</td>\n",
       "      <td>i sing my own rhythm.</td>\n",
       "      <td>0</td>\n",
       "      <td>08C2C2</td>\n",
       "      <td>0</td>\n",
       "      <td>FFFFFF</td>\n",
       "      <td>Robbie E Responds To Critics After Win Against...</td>\n",
       "      <td>110964</td>\n",
       "    </tr>\n",
       "    <tr>\n",
       "      <td>1</td>\n",
       "      <td>815719227</td>\n",
       "      <td>False</td>\n",
       "      <td>3</td>\n",
       "      <td>male</td>\n",
       "      <td>1.0000</td>\n",
       "      <td>I'm the author of novels filled with family dr...</td>\n",
       "      <td>68</td>\n",
       "      <td>0084B4</td>\n",
       "      <td>0</td>\n",
       "      <td>C0DEED</td>\n",
       "      <td>ÛÏIt felt like they were my friends and I was...</td>\n",
       "      <td>7471</td>\n",
       "    </tr>\n",
       "    <tr>\n",
       "      <td>2</td>\n",
       "      <td>815719228</td>\n",
       "      <td>False</td>\n",
       "      <td>3</td>\n",
       "      <td>male</td>\n",
       "      <td>0.6625</td>\n",
       "      <td>louis whining and squealing and all</td>\n",
       "      <td>7696</td>\n",
       "      <td>ABB8C2</td>\n",
       "      <td>1</td>\n",
       "      <td>C0DEED</td>\n",
       "      <td>i absolutely adore when louis starts the songs...</td>\n",
       "      <td>5617</td>\n",
       "    </tr>\n",
       "  </tbody>\n",
       "</table>\n",
       "</div>"
      ],
      "text/plain": [
       "    _unit_id  _golden  _trusted_judgments gender  gender:confidence  \\\n",
       "0  815719226    False                   3   male             1.0000   \n",
       "1  815719227    False                   3   male             1.0000   \n",
       "2  815719228    False                   3   male             0.6625   \n",
       "\n",
       "                                         description  fav_number link_color  \\\n",
       "0                              i sing my own rhythm.           0     08C2C2   \n",
       "1  I'm the author of novels filled with family dr...          68     0084B4   \n",
       "2                louis whining and squealing and all        7696     ABB8C2   \n",
       "\n",
       "   retweet_count sidebar_color  \\\n",
       "0              0        FFFFFF   \n",
       "1              0        C0DEED   \n",
       "2              1        C0DEED   \n",
       "\n",
       "                                                text  tweet_count  \n",
       "0  Robbie E Responds To Critics After Win Against...       110964  \n",
       "1  ÛÏIt felt like they were my friends and I was...         7471  \n",
       "2  i absolutely adore when louis starts the songs...         5617  "
      ]
     },
     "execution_count": 7,
     "metadata": {},
     "output_type": "execute_result"
    }
   ],
   "source": [
    "data.head(3)"
   ]
  },
  {
   "cell_type": "code",
   "execution_count": 8,
   "metadata": {},
   "outputs": [
    {
     "name": "stdout",
     "output_type": "stream",
     "text": [
      "<class 'pandas.core.frame.DataFrame'>\n",
      "RangeIndex: 20050 entries, 0 to 20049\n",
      "Data columns (total 12 columns):\n",
      "_unit_id              20050 non-null int64\n",
      "_golden               20050 non-null bool\n",
      "_trusted_judgments    20050 non-null int64\n",
      "gender                19953 non-null object\n",
      "gender:confidence     20024 non-null float64\n",
      "description           16306 non-null object\n",
      "fav_number            20050 non-null int64\n",
      "link_color            20050 non-null object\n",
      "retweet_count         20050 non-null int64\n",
      "sidebar_color         20050 non-null object\n",
      "text                  20050 non-null object\n",
      "tweet_count           20050 non-null int64\n",
      "dtypes: bool(1), float64(1), int64(5), object(5)\n",
      "memory usage: 1.7+ MB\n"
     ]
    }
   ],
   "source": [
    "# information of the data selected\n",
    "data.info()"
   ]
  },
  {
   "cell_type": "markdown",
   "metadata": {},
   "source": [
    "### Cleaning the Data"
   ]
  },
  {
   "cell_type": "code",
   "execution_count": 9,
   "metadata": {},
   "outputs": [],
   "source": [
    "#cleaning the data\n",
    "data['gender'] = data['gender'].replace('unknown',np.nan)\n",
    "data.dropna(inplace=True)"
   ]
  },
  {
   "cell_type": "code",
   "execution_count": 10,
   "metadata": {},
   "outputs": [
    {
     "name": "stdout",
     "output_type": "stream",
     "text": [
      "<class 'pandas.core.frame.DataFrame'>\n",
      "Int64Index: 15522 entries, 0 to 20049\n",
      "Data columns (total 12 columns):\n",
      "_unit_id              15522 non-null int64\n",
      "_golden               15522 non-null bool\n",
      "_trusted_judgments    15522 non-null int64\n",
      "gender                15522 non-null object\n",
      "gender:confidence     15522 non-null float64\n",
      "description           15522 non-null object\n",
      "fav_number            15522 non-null int64\n",
      "link_color            15522 non-null object\n",
      "retweet_count         15522 non-null int64\n",
      "sidebar_color         15522 non-null object\n",
      "text                  15522 non-null object\n",
      "tweet_count           15522 non-null int64\n",
      "dtypes: bool(1), float64(1), int64(5), object(5)\n",
      "memory usage: 1.4+ MB\n"
     ]
    }
   ],
   "source": [
    "data.info()"
   ]
  },
  {
   "cell_type": "code",
   "execution_count": 11,
   "metadata": {},
   "outputs": [
    {
     "data": {
      "text/plain": [
       "_unit_id              False\n",
       "_golden               False\n",
       "_trusted_judgments    False\n",
       "gender                False\n",
       "gender:confidence     False\n",
       "description           False\n",
       "fav_number            False\n",
       "link_color            False\n",
       "retweet_count         False\n",
       "sidebar_color         False\n",
       "text                  False\n",
       "tweet_count           False\n",
       "dtype: bool"
      ]
     },
     "execution_count": 11,
     "metadata": {},
     "output_type": "execute_result"
    }
   ],
   "source": [
    "data.isnull().any()"
   ]
  },
  {
   "cell_type": "code",
   "execution_count": 12,
   "metadata": {},
   "outputs": [
    {
     "data": {
      "text/plain": [
       "array(['male', 'female', 'brand'], dtype=object)"
      ]
     },
     "execution_count": 12,
     "metadata": {},
     "output_type": "execute_result"
    }
   ],
   "source": [
    "data.gender.unique()"
   ]
  },
  {
   "cell_type": "code",
   "execution_count": 13,
   "metadata": {},
   "outputs": [
    {
     "data": {
      "text/plain": [
       "_unit_id                int64\n",
       "_golden                  bool\n",
       "_trusted_judgments      int64\n",
       "gender                 object\n",
       "gender:confidence     float64\n",
       "description            object\n",
       "fav_number              int64\n",
       "link_color             object\n",
       "retweet_count           int64\n",
       "sidebar_color          object\n",
       "text                   object\n",
       "tweet_count             int64\n",
       "dtype: object"
      ]
     },
     "execution_count": 13,
     "metadata": {},
     "output_type": "execute_result"
    }
   ],
   "source": [
    "data.dtypes"
   ]
  },
  {
   "cell_type": "code",
   "execution_count": 14,
   "metadata": {},
   "outputs": [],
   "source": [
    "import re\n",
    "def cleaning(s):\n",
    "    s = str(s)\n",
    "    s = s.lower()\n",
    "    s = re.sub('\\s\\W',' ',s)\n",
    "    s = re.sub('\\W,\\s',' ',s)\n",
    "    s = re.sub(r'[^\\w]', ' ', s)\n",
    "    s = re.sub(\"\\d+\", \"\", s)\n",
    "    s = re.sub('\\s+',' ',s)\n",
    "    s = re.sub('[!@#$_]', '', s)\n",
    "    s = s.replace(\"co\",\"\")\n",
    "    s = s.replace(\"https\",\"\")\n",
    "    s = s.replace(\",\",\"\")\n",
    "    s = s.replace(\"[\\w*\",\" \")\n",
    "    return s\n",
    "\n",
    "data['Tweets'] = [cleaning(s) for s in data['text']]\n",
    "data['Description'] = [cleaning(s) for s in data['description']]\n",
    "\n",
    "from nltk.corpus import stopwords\n",
    "stop = set(stopwords.words('english'))\n",
    "data['Tweets'] = data['Tweets'].str.lower().str.split()\n",
    "data['Tweets'] = data['Tweets'].apply(lambda x : [item for item in x if item not in stop])"
   ]
  },
  {
   "cell_type": "markdown",
   "metadata": {},
   "source": [
    "### Exploratory Data Analysis (EDA)"
   ]
  },
  {
   "cell_type": "code",
   "execution_count": 15,
   "metadata": {},
   "outputs": [],
   "source": [
    "Male = data[data['gender'] == 'male']\n",
    "Female = data[data['gender'] == 'female']\n",
    "Brand = data[data['gender'] == 'brand']\n",
    "Male_Words = pd.Series(' '.join(Male['Tweets'].astype(str)).lower().split(\" \")).value_counts()[:20]\n",
    "Female_Words = pd.Series(' '.join(Female['Tweets'].astype(str)).lower().split(\" \")).value_counts()[:20]\n",
    "Brand_words = pd.Series(' '.join(Brand['Tweets'].astype(str)).lower().split(\" \")).value_counts()[:20]"
   ]
  },
  {
   "cell_type": "code",
   "execution_count": 16,
   "metadata": {},
   "outputs": [
    {
     "data": {
      "text/plain": [
       "<matplotlib.axes._subplots.AxesSubplot at 0x2abc21ee208>"
      ]
     },
     "execution_count": 16,
     "metadata": {},
     "output_type": "execute_result"
    },
    {
     "data": {
      "image/png": "[encoded data removed]",
      "text/plain": [
       "<Figure size 432x288 with 1 Axes>"
      ]
     },
     "metadata": {
      "needs_background": "light"
     },
     "output_type": "display_data"
    }
   ],
   "source": [
    "Female_Words.plot(kind='bar',stacked=True, colormap='RdBu')"
   ]
  },
  {
   "cell_type": "markdown",
   "metadata": {},
   "source": [
    "The 1st 20 most used words by female is visiaulised in the above graph. "
   ]
  },
  {
   "cell_type": "code",
   "execution_count": 17,
   "metadata": {},
   "outputs": [
    {
     "data": {
      "text/plain": [
       "<matplotlib.axes._subplots.AxesSubplot at 0x2abc226af48>"
      ]
     },
     "execution_count": 17,
     "metadata": {},
     "output_type": "execute_result"
    },
    {
     "data": {
      "image/png": "[encoded data removed]",
      "text/plain": [
       "<Figure size 432x288 with 1 Axes>"
      ]
     },
     "metadata": {
      "needs_background": "light"
     },
     "output_type": "display_data"
    }
   ],
   "source": [
    "Male_Words.plot(kind='bar',stacked=True, colormap='plasma')"
   ]
  },
  {
   "cell_type": "markdown",
   "metadata": {},
   "source": [
    "The 1st 20 most used words by men is visiaulised in the above graph. "
   ]
  },
  {
   "cell_type": "code",
   "execution_count": 18,
   "metadata": {},
   "outputs": [
    {
     "data": {
      "text/plain": [
       "<matplotlib.axes._subplots.AxesSubplot at 0x2abc230e9c8>"
      ]
     },
     "execution_count": 18,
     "metadata": {},
     "output_type": "execute_result"
    },
    {
     "data": {
      "image/png": "[encoded data removed]",
      "text/plain": [
       "<Figure size 432x288 with 1 Axes>"
      ]
     },
     "metadata": {
      "needs_background": "light"
     },
     "output_type": "display_data"
    }
   ],
   "source": [
    "Brand_words.plot(kind='bar',stacked=True, colormap='Paired')"
   ]
  },
  {
   "cell_type": "markdown",
   "metadata": {},
   "source": [
    "The 1st 20 most used words by brand is visiaulised in the above graph. "
   ]
  },
  {
   "cell_type": "code",
   "execution_count": 19,
   "metadata": {},
   "outputs": [
    {
     "data": {
      "text/plain": [
       "<matplotlib.axes._subplots.AxesSubplot at 0x2abc2343ac8>"
      ]
     },
     "execution_count": 19,
     "metadata": {},
     "output_type": "execute_result"
    },
    {
     "data": {
      "image/png": "[encoded data removed]",
      "text/plain": [
       "<Figure size 432x288 with 1 Axes>"
      ]
     },
     "metadata": {
      "needs_background": "light"
     },
     "output_type": "display_data"
    }
   ],
   "source": [
    "sns.barplot(x='gender',y='_golden',data=data)"
   ]
  },
  {
   "cell_type": "markdown",
   "metadata": {},
   "source": [
    "more males are included in the gold standard for the model compared to females and brands."
   ]
  },
  {
   "cell_type": "code",
   "execution_count": 20,
   "metadata": {},
   "outputs": [
    {
     "data": {
      "text/plain": [
       "<matplotlib.axes._subplots.AxesSubplot at 0x2abc2780048>"
      ]
     },
     "execution_count": 20,
     "metadata": {},
     "output_type": "execute_result"
    },
    {
     "data": {
      "image/png": "[encoded data removed]",
      "text/plain": [
       "<Figure size 432x288 with 1 Axes>"
      ]
     },
     "metadata": {
      "needs_background": "light"
     },
     "output_type": "display_data"
    }
   ],
   "source": [
    "sns.barplot(x='gender',y='fav_number',data=data)"
   ]
  },
  {
   "cell_type": "markdown",
   "metadata": {},
   "source": [
    "females have favorited the most number of tweets than males and brands."
   ]
  },
  {
   "cell_type": "code",
   "execution_count": 21,
   "metadata": {},
   "outputs": [
    {
     "data": {
      "text/plain": [
       "<matplotlib.axes._subplots.AxesSubplot at 0x2abc227df08>"
      ]
     },
     "execution_count": 21,
     "metadata": {},
     "output_type": "execute_result"
    },
    {
     "data": {
      "image/png": "[encoded data removed]",
      "text/plain": [
       "<Figure size 432x288 with 1 Axes>"
      ]
     },
     "metadata": {
      "needs_background": "light"
     },
     "output_type": "display_data"
    }
   ],
   "source": [
    "sns.barplot(x='gender',y='retweet_count',data=data)"
   ]
  },
  {
   "cell_type": "markdown",
   "metadata": {},
   "source": [
    "brands have retweeted the most when compared to male and female."
   ]
  },
  {
   "cell_type": "code",
   "execution_count": 22,
   "metadata": {},
   "outputs": [
    {
     "data": {
      "text/plain": [
       "<matplotlib.axes._subplots.AxesSubplot at 0x2abc27a94c8>"
      ]
     },
     "execution_count": 22,
     "metadata": {},
     "output_type": "execute_result"
    },
    {
     "data": {
      "image/png": "[encoded data removed]",
      "text/plain": [
       "<Figure size 432x288 with 1 Axes>"
      ]
     },
     "metadata": {
      "needs_background": "light"
     },
     "output_type": "display_data"
    }
   ],
   "source": [
    "sns.barplot(x='gender',y='tweet_count',data=data)"
   ]
  },
  {
   "cell_type": "markdown",
   "metadata": {},
   "source": [
    "brands have posted the most number of tweets than males and females."
   ]
  },
  {
   "cell_type": "code",
   "execution_count": 23,
   "metadata": {},
   "outputs": [
    {
     "data": {
      "image/png": "[encoded data removed]",
      "text/plain": [
       "<Figure size 432x288 with 1 Axes>"
      ]
     },
     "metadata": {},
     "output_type": "display_data"
    }
   ],
   "source": [
    "plt.pie(data.gender.value_counts(),labels=data.gender.value_counts().index, startangle=90)\n",
    "plt.show()"
   ]
  },
  {
   "cell_type": "markdown",
   "metadata": {},
   "source": [
    "There are almost equal number of male, female and brands."
   ]
  },
  {
   "cell_type": "code",
   "execution_count": 24,
   "metadata": {},
   "outputs": [
    {
     "data": {
      "text/plain": [
       "<matplotlib.axes._subplots.AxesSubplot at 0x2abc2a3bc88>"
      ]
     },
     "execution_count": 24,
     "metadata": {},
     "output_type": "execute_result"
    },
    {
     "data": {
      "image/png": "[encoded data removed]",
      "text/plain": [
       "<Figure size 576x360 with 2 Axes>"
      ]
     },
     "metadata": {
      "needs_background": "light"
     },
     "output_type": "display_data"
    }
   ],
   "source": [
    "f,ax=plt.subplots(figsize=(8,5))\n",
    "sns.heatmap(data.corr(),annot=True, fmt='.2f',cmap='Greens')"
   ]
  },
  {
   "cell_type": "markdown",
   "metadata": {},
   "source": [
    "### Label Encoding"
   ]
  },
  {
   "cell_type": "code",
   "execution_count": 25,
   "metadata": {},
   "outputs": [
    {
     "data": {
      "text/plain": [
       "_unit_id                int64\n",
       "_golden                  bool\n",
       "_trusted_judgments      int64\n",
       "gender                 object\n",
       "gender:confidence     float64\n",
       "description            object\n",
       "fav_number              int64\n",
       "link_color             object\n",
       "retweet_count           int64\n",
       "sidebar_color          object\n",
       "text                   object\n",
       "tweet_count             int64\n",
       "Tweets                 object\n",
       "Description            object\n",
       "dtype: object"
      ]
     },
     "execution_count": 25,
     "metadata": {},
     "output_type": "execute_result"
    }
   ],
   "source": [
    "data.dtypes"
   ]
  },
  {
   "cell_type": "code",
   "execution_count": 26,
   "metadata": {},
   "outputs": [],
   "source": [
    "# label encoding\n",
    "from sklearn.preprocessing import LabelEncoder\n",
    "le=LabelEncoder()\n",
    "data['gender']=le.fit_transform(data['gender'])\n",
    "data['_golden']=le.fit_transform(data['_golden'])\n",
    "data['link_color']=le.fit_transform(data['link_color'])\n",
    "data['sidebar_color']=le.fit_transform(data['sidebar_color'])"
   ]
  },
  {
   "cell_type": "code",
   "execution_count": 27,
   "metadata": {},
   "outputs": [
    {
     "data": {
      "text/plain": [
       "_unit_id                int64\n",
       "_golden                 int64\n",
       "_trusted_judgments      int64\n",
       "gender                  int32\n",
       "gender:confidence     float64\n",
       "description            object\n",
       "fav_number              int64\n",
       "link_color              int32\n",
       "retweet_count           int64\n",
       "sidebar_color           int32\n",
       "text                   object\n",
       "tweet_count             int64\n",
       "Tweets                 object\n",
       "Description            object\n",
       "dtype: object"
      ]
     },
     "execution_count": 27,
     "metadata": {},
     "output_type": "execute_result"
    }
   ],
   "source": [
    "data.dtypes"
   ]
  },
  {
   "cell_type": "code",
   "execution_count": 28,
   "metadata": {},
   "outputs": [
    {
     "data": {
      "text/html": [
       "<div>\n",
       "<style scoped>\n",
       "    .dataframe tbody tr th:only-of-type {\n",
       "        vertical-align: middle;\n",
       "    }\n",
       "\n",
       "    .dataframe tbody tr th {\n",
       "        vertical-align: top;\n",
       "    }\n",
       "\n",
       "    .dataframe thead th {\n",
       "        text-align: right;\n",
       "    }\n",
       "</style>\n",
       "<table border=\"1\" class=\"dataframe\">\n",
       "  <thead>\n",
       "    <tr style=\"text-align: right;\">\n",
       "      <th></th>\n",
       "      <th>_unit_id</th>\n",
       "      <th>_golden</th>\n",
       "      <th>_trusted_judgments</th>\n",
       "      <th>gender</th>\n",
       "      <th>gender:confidence</th>\n",
       "      <th>description</th>\n",
       "      <th>fav_number</th>\n",
       "      <th>link_color</th>\n",
       "      <th>retweet_count</th>\n",
       "      <th>sidebar_color</th>\n",
       "      <th>text</th>\n",
       "      <th>tweet_count</th>\n",
       "      <th>Tweets</th>\n",
       "      <th>Description</th>\n",
       "    </tr>\n",
       "  </thead>\n",
       "  <tbody>\n",
       "    <tr>\n",
       "      <td>0</td>\n",
       "      <td>815719226</td>\n",
       "      <td>0</td>\n",
       "      <td>3</td>\n",
       "      <td>2</td>\n",
       "      <td>1.0000</td>\n",
       "      <td>i sing my own rhythm.</td>\n",
       "      <td>0</td>\n",
       "      <td>230</td>\n",
       "      <td>0</td>\n",
       "      <td>511</td>\n",
       "      <td>Robbie E Responds To Critics After Win Against...</td>\n",
       "      <td>110964</td>\n",
       "      <td>[robbie, e, responds, critics, win, eddie, edw...</td>\n",
       "      <td>i sing my own rhythm</td>\n",
       "    </tr>\n",
       "    <tr>\n",
       "      <td>1</td>\n",
       "      <td>815719227</td>\n",
       "      <td>0</td>\n",
       "      <td>3</td>\n",
       "      <td>2</td>\n",
       "      <td>1.0000</td>\n",
       "      <td>I'm the author of novels filled with family dr...</td>\n",
       "      <td>68</td>\n",
       "      <td>70</td>\n",
       "      <td>0</td>\n",
       "      <td>334</td>\n",
       "      <td>ÛÏIt felt like they were my friends and I was...</td>\n",
       "      <td>7471</td>\n",
       "      <td>[ûïit, felt, like, friends, living, story, û, ...</td>\n",
       "      <td>i m the author of novels filled with family dr...</td>\n",
       "    </tr>\n",
       "    <tr>\n",
       "      <td>2</td>\n",
       "      <td>815719228</td>\n",
       "      <td>0</td>\n",
       "      <td>3</td>\n",
       "      <td>2</td>\n",
       "      <td>0.6625</td>\n",
       "      <td>louis whining and squealing and all</td>\n",
       "      <td>7696</td>\n",
       "      <td>1837</td>\n",
       "      <td>1</td>\n",
       "      <td>334</td>\n",
       "      <td>i absolutely adore when louis starts the songs...</td>\n",
       "      <td>5617</td>\n",
       "      <td>[absolutely, adore, louis, starts, songs, hits...</td>\n",
       "      <td>louis whining and squealing and all</td>\n",
       "    </tr>\n",
       "  </tbody>\n",
       "</table>\n",
       "</div>"
      ],
      "text/plain": [
       "    _unit_id  _golden  _trusted_judgments  gender  gender:confidence  \\\n",
       "0  815719226        0                   3       2             1.0000   \n",
       "1  815719227        0                   3       2             1.0000   \n",
       "2  815719228        0                   3       2             0.6625   \n",
       "\n",
       "                                         description  fav_number  link_color  \\\n",
       "0                              i sing my own rhythm.           0         230   \n",
       "1  I'm the author of novels filled with family dr...          68          70   \n",
       "2                louis whining and squealing and all        7696        1837   \n",
       "\n",
       "   retweet_count  sidebar_color  \\\n",
       "0              0            511   \n",
       "1              0            334   \n",
       "2              1            334   \n",
       "\n",
       "                                                text  tweet_count  \\\n",
       "0  Robbie E Responds To Critics After Win Against...       110964   \n",
       "1  ÛÏIt felt like they were my friends and I was...         7471   \n",
       "2  i absolutely adore when louis starts the songs...         5617   \n",
       "\n",
       "                                              Tweets  \\\n",
       "0  [robbie, e, responds, critics, win, eddie, edw...   \n",
       "1  [ûïit, felt, like, friends, living, story, û, ...   \n",
       "2  [absolutely, adore, louis, starts, songs, hits...   \n",
       "\n",
       "                                         Description  \n",
       "0                              i sing my own rhythm   \n",
       "1  i m the author of novels filled with family dr...  \n",
       "2                louis whining and squealing and all  "
      ]
     },
     "execution_count": 28,
     "metadata": {},
     "output_type": "execute_result"
    }
   ],
   "source": [
    "data.head(3)"
   ]
  },
  {
   "cell_type": "markdown",
   "metadata": {},
   "source": [
    "## Training the algorithm"
   ]
  },
  {
   "cell_type": "code",
   "execution_count": 29,
   "metadata": {},
   "outputs": [],
   "source": [
    "# independent features\n",
    "x=data[['_unit_id', '_golden', '_trusted_judgments',\n",
    "       'gender:confidence', 'fav_number', 'link_color',\n",
    "       'retweet_count', 'sidebar_color', 'tweet_count']]\n",
    "# dependent feature\n",
    "Y=data['gender'].values"
   ]
  },
  {
   "cell_type": "code",
   "execution_count": 30,
   "metadata": {},
   "outputs": [],
   "source": [
    "# splitting the data\n",
    "from sklearn.model_selection import train_test_split\n",
    "X_train,X_test,Y_train,Y_test = train_test_split(x,Y,test_size=0.3,random_state=30)"
   ]
  },
  {
   "cell_type": "code",
   "execution_count": 31,
   "metadata": {},
   "outputs": [],
   "source": [
    "# scaling to unit variance\n",
    "from sklearn.preprocessing import StandardScaler\n",
    "sc=StandardScaler()\n",
    "X_train=sc.fit_transform(X_train)\n",
    "X_test=sc.fit_transform(X_test)"
   ]
  },
  {
   "cell_type": "markdown",
   "metadata": {},
   "source": [
    "### Artificial Neural Network using sklearn"
   ]
  },
  {
   "cell_type": "code",
   "execution_count": 32,
   "metadata": {},
   "outputs": [],
   "source": [
    "from sklearn.neural_network import MLPClassifier\n",
    "mlpc = MLPClassifier(max_iter=300,verbose=True)"
   ]
  },
  {
   "cell_type": "code",
   "execution_count": 33,
   "metadata": {},
   "outputs": [
    {
     "data": {
      "text/plain": [
       "MLPClassifier(activation='relu', alpha=0.0001, batch_size='auto', beta_1=0.9,\n",
       "              beta_2=0.999, early_stopping=False, epsilon=1e-08,\n",
       "              hidden_layer_sizes=(100,), learning_rate='constant',\n",
       "              learning_rate_init=0.001, max_iter=300, momentum=0.9,\n",
       "              n_iter_no_change=10, nesterovs_momentum=True, power_t=0.5,\n",
       "              random_state=None, shuffle=True, solver='adam', tol=0.0001,\n",
       "              validation_fraction=0.1, verbose=True, warm_start=False)"
      ]
     },
     "execution_count": 33,
     "metadata": {},
     "output_type": "execute_result"
    }
   ],
   "source": [
    "mlpc"
   ]
  },
  {
   "cell_type": "code",
   "execution_count": 34,
   "metadata": {},
   "outputs": [
    {
     "name": "stdout",
     "output_type": "stream",
     "text": [
      "Iteration 1, loss = 1.08493570\n",
      "Iteration 2, loss = 1.05464122\n",
      "Iteration 3, loss = 1.04527945\n",
      "Iteration 4, loss = 1.03874223\n",
      "Iteration 5, loss = 1.03246519\n",
      "Iteration 6, loss = 1.02734951\n",
      "Iteration 7, loss = 1.02248610\n",
      "Iteration 8, loss = 1.01835262\n",
      "Iteration 9, loss = 1.01514566\n",
      "Iteration 10, loss = 1.01141646\n",
      "Iteration 11, loss = 1.01058813\n",
      "Iteration 12, loss = 1.00797475\n",
      "Iteration 13, loss = 1.00626144\n",
      "Iteration 14, loss = 1.00433395\n",
      "Iteration 15, loss = 1.00325292\n",
      "Iteration 16, loss = 1.00122833\n",
      "Iteration 17, loss = 1.00094968\n",
      "Iteration 18, loss = 0.99962330\n",
      "Iteration 19, loss = 0.99980172\n",
      "Iteration 20, loss = 0.99714589\n",
      "Iteration 21, loss = 0.99725931\n",
      "Iteration 22, loss = 0.99630130\n",
      "Iteration 23, loss = 0.99601974\n",
      "Iteration 24, loss = 0.99546327\n",
      "Iteration 25, loss = 0.99424104\n",
      "Iteration 26, loss = 0.99320195\n",
      "Iteration 27, loss = 0.99306384\n",
      "Iteration 28, loss = 0.99280583\n",
      "Iteration 29, loss = 0.99168826\n",
      "Iteration 30, loss = 0.99128208\n",
      "Iteration 31, loss = 0.99075266\n",
      "Iteration 32, loss = 0.99055900\n",
      "Iteration 33, loss = 0.99067352\n",
      "Iteration 34, loss = 0.99028832\n",
      "Iteration 35, loss = 0.98888004\n",
      "Iteration 36, loss = 0.98792139\n",
      "Iteration 37, loss = 0.98788684\n",
      "Iteration 38, loss = 0.98823800\n",
      "Iteration 39, loss = 0.98737695\n",
      "Iteration 40, loss = 0.98689772\n",
      "Iteration 41, loss = 0.98818309\n",
      "Iteration 42, loss = 0.98639880\n",
      "Iteration 43, loss = 0.98570782\n",
      "Iteration 44, loss = 0.98539547\n",
      "Iteration 45, loss = 0.98486070\n",
      "Iteration 46, loss = 0.98427974\n",
      "Iteration 47, loss = 0.98467405\n",
      "Iteration 48, loss = 0.98372363\n",
      "Iteration 49, loss = 0.98344476\n",
      "Iteration 50, loss = 0.98310413\n",
      "Iteration 51, loss = 0.98245955\n",
      "Iteration 52, loss = 0.98298328\n",
      "Iteration 53, loss = 0.98215630\n",
      "Iteration 54, loss = 0.98126307\n",
      "Iteration 55, loss = 0.98149843\n",
      "Iteration 56, loss = 0.98198420\n",
      "Iteration 57, loss = 0.98136316\n",
      "Iteration 58, loss = 0.98106293\n",
      "Iteration 59, loss = 0.98178954\n",
      "Iteration 60, loss = 0.97981070\n",
      "Iteration 61, loss = 0.97965148\n",
      "Iteration 62, loss = 0.97924385\n",
      "Iteration 63, loss = 0.97971134\n",
      "Iteration 64, loss = 0.97884977\n",
      "Iteration 65, loss = 0.97944256\n",
      "Iteration 66, loss = 0.97884062\n",
      "Iteration 67, loss = 0.97847499\n",
      "Iteration 68, loss = 0.97778700\n",
      "Iteration 69, loss = 0.97771322\n",
      "Iteration 70, loss = 0.97647365\n",
      "Iteration 71, loss = 0.97751169\n",
      "Iteration 72, loss = 0.97721585\n",
      "Iteration 73, loss = 0.97674123\n",
      "Iteration 74, loss = 0.97654574\n",
      "Iteration 75, loss = 0.97631658\n",
      "Iteration 76, loss = 0.97600632\n",
      "Iteration 77, loss = 0.97672644\n",
      "Iteration 78, loss = 0.97518005\n",
      "Iteration 79, loss = 0.97528238\n",
      "Iteration 80, loss = 0.97525755\n",
      "Iteration 81, loss = 0.97525463\n",
      "Iteration 82, loss = 0.97421859\n",
      "Iteration 83, loss = 0.97490214\n",
      "Iteration 84, loss = 0.97399871\n",
      "Iteration 85, loss = 0.97449493\n",
      "Iteration 86, loss = 0.97340253\n",
      "Iteration 87, loss = 0.97400212\n",
      "Iteration 88, loss = 0.97320163\n",
      "Iteration 89, loss = 0.97434230\n",
      "Iteration 90, loss = 0.97273352\n",
      "Iteration 91, loss = 0.97266390\n",
      "Iteration 92, loss = 0.97276547\n",
      "Iteration 93, loss = 0.97355787\n",
      "Iteration 94, loss = 0.97302882\n",
      "Iteration 95, loss = 0.97236216\n",
      "Iteration 96, loss = 0.97155021\n",
      "Iteration 97, loss = 0.97169619\n",
      "Iteration 98, loss = 0.97196994\n",
      "Iteration 99, loss = 0.97180738\n",
      "Iteration 100, loss = 0.97046473\n",
      "Iteration 101, loss = 0.97087109\n",
      "Iteration 102, loss = 0.97023659\n",
      "Iteration 103, loss = 0.97146560\n",
      "Iteration 104, loss = 0.97167197\n",
      "Iteration 105, loss = 0.97053428\n",
      "Iteration 106, loss = 0.96982571\n",
      "Iteration 107, loss = 0.96991412\n",
      "Iteration 108, loss = 0.96970652\n",
      "Iteration 109, loss = 0.97019609\n",
      "Iteration 110, loss = 0.96963840\n",
      "Iteration 111, loss = 0.96949341\n",
      "Iteration 112, loss = 0.96954197\n",
      "Iteration 113, loss = 0.97010148\n",
      "Iteration 114, loss = 0.96937424\n",
      "Iteration 115, loss = 0.96997983\n",
      "Iteration 116, loss = 0.96919692\n",
      "Iteration 117, loss = 0.96905993\n",
      "Iteration 118, loss = 0.96915709\n",
      "Iteration 119, loss = 0.96871620\n",
      "Iteration 120, loss = 0.96841624\n",
      "Iteration 121, loss = 0.96901187\n",
      "Iteration 122, loss = 0.96770703\n",
      "Iteration 123, loss = 0.96755785\n",
      "Iteration 124, loss = 0.96714500\n",
      "Iteration 125, loss = 0.96762955\n",
      "Iteration 126, loss = 0.96669004\n",
      "Iteration 127, loss = 0.96686285\n",
      "Iteration 128, loss = 0.96841475\n",
      "Iteration 129, loss = 0.96727676\n",
      "Iteration 130, loss = 0.96639380\n",
      "Iteration 131, loss = 0.96650274\n",
      "Iteration 132, loss = 0.96565382\n",
      "Iteration 133, loss = 0.96581458\n",
      "Iteration 134, loss = 0.96609400\n",
      "Iteration 135, loss = 0.96556666\n",
      "Iteration 136, loss = 0.96651248\n",
      "Iteration 137, loss = 0.96583927\n",
      "Iteration 138, loss = 0.96567427\n",
      "Iteration 139, loss = 0.96547266\n",
      "Iteration 140, loss = 0.96534190\n",
      "Iteration 141, loss = 0.96491069\n",
      "Iteration 142, loss = 0.96511137\n",
      "Iteration 143, loss = 0.96544838\n",
      "Iteration 144, loss = 0.96485816\n",
      "Iteration 145, loss = 0.96468649\n",
      "Iteration 146, loss = 0.96485642\n",
      "Iteration 147, loss = 0.96392907\n",
      "Iteration 148, loss = 0.96397232\n",
      "Iteration 149, loss = 0.96434677\n",
      "Iteration 150, loss = 0.96412364\n",
      "Iteration 151, loss = 0.96336957\n",
      "Iteration 152, loss = 0.96291636\n",
      "Iteration 153, loss = 0.96362839\n",
      "Iteration 154, loss = 0.96355155\n",
      "Iteration 155, loss = 0.96472006\n",
      "Iteration 156, loss = 0.96430678\n",
      "Iteration 157, loss = 0.96322950\n",
      "Iteration 158, loss = 0.96331997\n",
      "Iteration 159, loss = 0.96368378\n",
      "Iteration 160, loss = 0.96253666\n",
      "Iteration 161, loss = 0.96314265\n",
      "Iteration 162, loss = 0.96196935\n",
      "Iteration 163, loss = 0.96275003\n",
      "Iteration 164, loss = 0.96175503\n",
      "Iteration 165, loss = 0.96293525\n",
      "Iteration 166, loss = 0.96175062\n",
      "Iteration 167, loss = 0.96199189\n",
      "Iteration 168, loss = 0.96163338\n",
      "Iteration 169, loss = 0.96274232\n",
      "Iteration 170, loss = 0.96236675\n",
      "Iteration 171, loss = 0.96274120\n",
      "Iteration 172, loss = 0.96200471\n",
      "Iteration 173, loss = 0.96157613\n",
      "Iteration 174, loss = 0.96197410\n",
      "Iteration 175, loss = 0.96117951\n",
      "Iteration 176, loss = 0.96138430\n",
      "Iteration 177, loss = 0.96340509\n",
      "Iteration 178, loss = 0.96186127\n",
      "Iteration 179, loss = 0.96310509\n",
      "Iteration 180, loss = 0.96339378\n",
      "Iteration 181, loss = 0.96193778\n",
      "Iteration 182, loss = 0.96100713\n",
      "Iteration 183, loss = 0.96105982\n",
      "Iteration 184, loss = 0.96240501\n",
      "Iteration 185, loss = 0.96081676\n",
      "Iteration 186, loss = 0.95997714\n",
      "Iteration 187, loss = 0.96039231\n",
      "Iteration 188, loss = 0.95999437\n",
      "Iteration 189, loss = 0.96029966\n",
      "Iteration 190, loss = 0.95991473\n",
      "Iteration 191, loss = 0.95994907\n",
      "Iteration 192, loss = 0.95979804\n",
      "Iteration 193, loss = 0.95955631\n",
      "Iteration 194, loss = 0.95997740\n",
      "Iteration 195, loss = 0.96015031\n",
      "Iteration 196, loss = 0.96011270\n",
      "Iteration 197, loss = 0.95962475\n",
      "Iteration 198, loss = 0.95932802\n",
      "Iteration 199, loss = 0.95877546\n",
      "Iteration 200, loss = 0.95993583\n",
      "Iteration 201, loss = 0.95941393\n",
      "Iteration 202, loss = 0.95814228\n",
      "Iteration 203, loss = 0.95930911\n",
      "Iteration 204, loss = 0.95972038\n",
      "Iteration 205, loss = 0.95901549\n",
      "Iteration 206, loss = 0.95842410\n",
      "Iteration 207, loss = 0.95852780\n",
      "Iteration 208, loss = 0.95952696\n",
      "Iteration 209, loss = 0.96093888\n",
      "Iteration 210, loss = 0.95901955\n",
      "Iteration 211, loss = 0.95833210\n",
      "Iteration 212, loss = 0.95996762\n",
      "Iteration 213, loss = 0.95789617\n",
      "Iteration 214, loss = 0.95833795\n",
      "Iteration 215, loss = 0.95854406\n",
      "Iteration 216, loss = 0.95830910\n",
      "Iteration 217, loss = 0.95892880\n",
      "Iteration 218, loss = 0.95745342\n",
      "Iteration 219, loss = 0.95810845\n",
      "Iteration 220, loss = 0.95795346\n",
      "Iteration 221, loss = 0.95807183\n",
      "Iteration 222, loss = 0.95837208\n",
      "Iteration 223, loss = 0.95710257\n",
      "Iteration 224, loss = 0.95848796\n",
      "Iteration 225, loss = 0.95834666\n",
      "Iteration 226, loss = 0.95665794\n",
      "Iteration 227, loss = 0.95797618\n",
      "Iteration 228, loss = 0.95705247\n",
      "Iteration 229, loss = 0.95837502\n",
      "Iteration 230, loss = 0.95792609\n",
      "Iteration 231, loss = 0.95760460\n",
      "Iteration 232, loss = 0.95919320\n",
      "Iteration 233, loss = 0.95834632\n",
      "Iteration 234, loss = 0.95637367\n",
      "Iteration 235, loss = 0.95762940\n",
      "Iteration 236, loss = 0.95713575\n",
      "Iteration 237, loss = 0.95732050\n",
      "Iteration 238, loss = 0.95599180\n",
      "Iteration 239, loss = 0.95650232\n",
      "Iteration 240, loss = 0.95731764\n",
      "Iteration 241, loss = 0.95790686\n",
      "Iteration 242, loss = 0.95744661\n",
      "Iteration 243, loss = 0.95564450\n",
      "Iteration 244, loss = 0.95651502\n",
      "Iteration 245, loss = 0.95526441\n",
      "Iteration 246, loss = 0.95627137\n",
      "Iteration 247, loss = 0.95641670\n",
      "Iteration 248, loss = 0.95635226\n",
      "Iteration 249, loss = 0.95681139\n",
      "Iteration 250, loss = 0.95670519\n",
      "Iteration 251, loss = 0.95667430\n",
      "Iteration 252, loss = 0.95752729\n",
      "Iteration 253, loss = 0.95528058\n",
      "Iteration 254, loss = 0.95611539\n",
      "Iteration 255, loss = 0.95503304\n",
      "Iteration 256, loss = 0.95600068\n",
      "Iteration 257, loss = 0.95609495\n",
      "Iteration 258, loss = 0.95603934\n",
      "Iteration 259, loss = 0.95447562\n",
      "Iteration 260, loss = 0.95652395\n",
      "Iteration 261, loss = 0.95525390\n",
      "Iteration 262, loss = 0.95492443\n",
      "Iteration 263, loss = 0.95533305\n",
      "Iteration 264, loss = 0.95675892\n",
      "Iteration 265, loss = 0.95589421\n",
      "Iteration 266, loss = 0.95565134\n",
      "Iteration 267, loss = 0.95560118\n",
      "Iteration 268, loss = 0.95504411\n",
      "Iteration 269, loss = 0.95465887\n",
      "Iteration 270, loss = 0.95404218\n",
      "Iteration 271, loss = 0.95388571\n",
      "Iteration 272, loss = 0.95605913\n",
      "Iteration 273, loss = 0.95579865\n",
      "Iteration 274, loss = 0.95575695\n",
      "Iteration 275, loss = 0.95470696\n",
      "Iteration 276, loss = 0.95451265\n",
      "Iteration 277, loss = 0.95496928\n",
      "Iteration 278, loss = 0.95411285\n",
      "Iteration 279, loss = 0.95626453\n",
      "Iteration 280, loss = 0.95426681\n",
      "Iteration 281, loss = 0.95445805\n",
      "Iteration 282, loss = 0.95522371\n",
      "Training loss did not improve more than tol=0.000100 for 10 consecutive epochs. Stopping.\n"
     ]
    }
   ],
   "source": [
    "mlpc.fit(X_train,Y_train) # training the data\n",
    "Y_pred = mlpc.predict(X_test) # testing the data"
   ]
  },
  {
   "cell_type": "code",
   "execution_count": 35,
   "metadata": {},
   "outputs": [
    {
     "data": {
      "text/plain": [
       "0.4809963495812755"
      ]
     },
     "execution_count": 35,
     "metadata": {},
     "output_type": "execute_result"
    }
   ],
   "source": [
    "# evaluating the algorithm using accuracy_score metrics\n",
    "from sklearn.metrics import accuracy_score\n",
    "accuracy_score(Y_test,Y_pred)"
   ]
  },
  {
   "cell_type": "markdown",
   "metadata": {},
   "source": [
    "### Artificial Neural Network using Tensorflow"
   ]
  },
  {
   "cell_type": "code",
   "execution_count": 36,
   "metadata": {},
   "outputs": [],
   "source": [
    "from tensorflow import keras\n",
    "from tensorflow.keras.layers import Dense, Activation, Dropout\n",
    "from tensorflow.keras.models import Model"
   ]
  },
  {
   "cell_type": "code",
   "execution_count": 37,
   "metadata": {},
   "outputs": [
    {
     "name": "stdout",
     "output_type": "stream",
     "text": [
      "WARNING:tensorflow:From C:\\Users\\Manjunath\\Anaconda3\\lib\\site-packages\\tensorflow\\python\\ops\\init_ops.py:1251: calling VarianceScaling.__init__ (from tensorflow.python.ops.init_ops) with dtype is deprecated and will be removed in a future version.\n",
      "Instructions for updating:\n",
      "Call initializer instance with the dtype argument instead of passing it to the constructor\n"
     ]
    }
   ],
   "source": [
    "model = keras.Sequential()\n",
    "model.add(Dense(8,activation='relu'),)\n",
    "model.add(Dense(3,))\n",
    "model.compile(optimizer='adam',loss='mse',metrics=['accuracy'])"
   ]
  },
  {
   "cell_type": "code",
   "execution_count": 38,
   "metadata": {},
   "outputs": [
    {
     "name": "stdout",
     "output_type": "stream",
     "text": [
      "Epoch 1/100\n",
      "10865/10865 [==============================] - 1s 48us/sample - loss: 1.7023 - acc: 0.1731\n",
      "Epoch 2/100\n",
      "10865/10865 [==============================] - 0s 39us/sample - loss: 0.8936 - acc: 0.2734\n",
      "Epoch 3/100\n",
      "10865/10865 [==============================] - 0s 41us/sample - loss: 0.7135 - acc: 0.3577\n",
      "Epoch 4/100\n",
      "10865/10865 [==============================] - 0s 39us/sample - loss: 0.6710 - acc: 0.3922\n",
      "Epoch 5/100\n",
      "10865/10865 [==============================] - 0s 39us/sample - loss: 0.6524 - acc: 0.3905\n",
      "Epoch 6/100\n",
      "10865/10865 [==============================] - 0s 38us/sample - loss: 0.6413 - acc: 0.3795\n",
      "Epoch 7/100\n",
      "10865/10865 [==============================] - 0s 39us/sample - loss: 0.6327 - acc: 0.3868\n",
      "Epoch 8/100\n",
      "10865/10865 [==============================] - 0s 41us/sample - loss: 0.6262 - acc: 0.3800\n",
      "Epoch 9/100\n",
      "10865/10865 [==============================] - 0s 39us/sample - loss: 0.6213 - acc: 0.3983\n",
      "Epoch 10/100\n",
      "10865/10865 [==============================] - 0s 40us/sample - loss: 0.6176 - acc: 0.4003\n",
      "Epoch 11/100\n",
      "10865/10865 [==============================] - 0s 40us/sample - loss: 0.6153 - acc: 0.4173\n",
      "Epoch 12/100\n",
      "10865/10865 [==============================] - 0s 40us/sample - loss: 0.6126 - acc: 0.4299\n",
      "Epoch 13/100\n",
      "10865/10865 [==============================] - 0s 38us/sample - loss: 0.6111 - acc: 0.4712\n",
      "Epoch 14/100\n",
      "10865/10865 [==============================] - 0s 39us/sample - loss: 0.6103 - acc: 0.4758\n",
      "Epoch 15/100\n",
      "10865/10865 [==============================] - 0s 38us/sample - loss: 0.6091 - acc: 0.4827\n",
      "Epoch 16/100\n",
      "10865/10865 [==============================] - 0s 39us/sample - loss: 0.6074 - acc: 0.4723\n",
      "Epoch 17/100\n",
      "10865/10865 [==============================] - 0s 38us/sample - loss: 0.6068 - acc: 0.4612\n",
      "Epoch 18/100\n",
      "10865/10865 [==============================] - 0s 39us/sample - loss: 0.6055 - acc: 0.4617\n",
      "Epoch 19/100\n",
      "10865/10865 [==============================] - 0s 38us/sample - loss: 0.6045 - acc: 0.4469\n",
      "Epoch 20/100\n",
      "10865/10865 [==============================] - 0s 38us/sample - loss: 0.6040 - acc: 0.4303\n",
      "Epoch 21/100\n",
      "10865/10865 [==============================] - 0s 40us/sample - loss: 0.6035 - acc: 0.4240\n",
      "Epoch 22/100\n",
      "10865/10865 [==============================] - 0s 38us/sample - loss: 0.6024 - acc: 0.4111\n",
      "Epoch 23/100\n",
      "10865/10865 [==============================] - 0s 38us/sample - loss: 0.6018 - acc: 0.3975\n",
      "Epoch 24/100\n",
      "10865/10865 [==============================] - 0s 38us/sample - loss: 0.6013 - acc: 0.3989\n",
      "Epoch 25/100\n",
      "10865/10865 [==============================] - 0s 41us/sample - loss: 0.6007 - acc: 0.3778\n",
      "Epoch 26/100\n",
      "10865/10865 [==============================] - 0s 39us/sample - loss: 0.6006 - acc: 0.3864\n",
      "Epoch 27/100\n",
      "10865/10865 [==============================] - 0s 40us/sample - loss: 0.5995 - acc: 0.3738\n",
      "Epoch 28/100\n",
      "10865/10865 [==============================] - 0s 35us/sample - loss: 0.5995 - acc: 0.3651\n",
      "Epoch 29/100\n",
      "10865/10865 [==============================] - 0s 34us/sample - loss: 0.5985 - acc: 0.3358\n",
      "Epoch 30/100\n",
      "10865/10865 [==============================] - 0s 34us/sample - loss: 0.5990 - acc: 0.3438\n",
      "Epoch 31/100\n",
      "10865/10865 [==============================] - 0s 41us/sample - loss: 0.5974 - acc: 0.3454\n",
      "Epoch 32/100\n",
      "10865/10865 [==============================] - 0s 37us/sample - loss: 0.5976 - acc: 0.3386\n",
      "Epoch 33/100\n",
      "10865/10865 [==============================] - 0s 41us/sample - loss: 0.5973 - acc: 0.3212\n",
      "Epoch 34/100\n",
      "10865/10865 [==============================] - 0s 38us/sample - loss: 0.5973 - acc: 0.3175\n",
      "Epoch 35/100\n",
      "10865/10865 [==============================] - 0s 41us/sample - loss: 0.5964 - acc: 0.3124\n",
      "Epoch 36/100\n",
      "10865/10865 [==============================] - 0s 39us/sample - loss: 0.5953 - acc: 0.3260\n",
      "Epoch 37/100\n",
      "10865/10865 [==============================] - 0s 41us/sample - loss: 0.5957 - acc: 0.3180\n",
      "Epoch 38/100\n",
      "10865/10865 [==============================] - 0s 39us/sample - loss: 0.5957 - acc: 0.3090\n",
      "Epoch 39/100\n",
      "10865/10865 [==============================] - 0s 39us/sample - loss: 0.5961 - acc: 0.3167\n",
      "Epoch 40/100\n",
      "10865/10865 [==============================] - 0s 37us/sample - loss: 0.5948 - acc: 0.3116\n",
      "Epoch 41/100\n",
      "10865/10865 [==============================] - 0s 34us/sample - loss: 0.5942 - acc: 0.3212\n",
      "Epoch 42/100\n",
      "10865/10865 [==============================] - 0s 35us/sample - loss: 0.5944 - acc: 0.3161\n",
      "Epoch 43/100\n",
      "10865/10865 [==============================] - 0s 35us/sample - loss: 0.5947 - acc: 0.3194\n",
      "Epoch 44/100\n",
      "10865/10865 [==============================] - 0s 35us/sample - loss: 0.5938 - acc: 0.3158\n",
      "Epoch 45/100\n",
      "10865/10865 [==============================] - 0s 36us/sample - loss: 0.5932 - acc: 0.3271\n",
      "Epoch 46/100\n",
      "10865/10865 [==============================] - 0s 35us/sample - loss: 0.5939 - acc: 0.3115\n",
      "Epoch 47/100\n",
      "10865/10865 [==============================] - 0s 35us/sample - loss: 0.5928 - acc: 0.3171\n",
      "Epoch 48/100\n",
      "10865/10865 [==============================] - 0s 34us/sample - loss: 0.5930 - acc: 0.3048\n",
      "Epoch 49/100\n",
      "10865/10865 [==============================] - 0s 36us/sample - loss: 0.5933 - acc: 0.3059\n",
      "Epoch 50/100\n",
      "10865/10865 [==============================] - 0s 38us/sample - loss: 0.5925 - acc: 0.3088\n",
      "Epoch 51/100\n",
      "10865/10865 [==============================] - 0s 34us/sample - loss: 0.5922 - acc: 0.3231\n",
      "Epoch 52/100\n",
      "10865/10865 [==============================] - 0s 39us/sample - loss: 0.5921 - acc: 0.3116\n",
      "Epoch 53/100\n",
      "10865/10865 [==============================] - 0s 34us/sample - loss: 0.5925 - acc: 0.3170\n",
      "Epoch 54/100\n",
      "10865/10865 [==============================] - 0s 34us/sample - loss: 0.5919 - acc: 0.3150\n",
      "Epoch 55/100\n",
      "10865/10865 [==============================] - 0s 33us/sample - loss: 0.5916 - acc: 0.3230\n",
      "Epoch 56/100\n",
      "10865/10865 [==============================] - 0s 36us/sample - loss: 0.5907 - acc: 0.3213\n",
      "Epoch 57/100\n",
      "10865/10865 [==============================] - 0s 34us/sample - loss: 0.5915 - acc: 0.3173\n",
      "Epoch 58/100\n",
      "10865/10865 [==============================] - 0s 35us/sample - loss: 0.5916 - acc: 0.3177\n",
      "Epoch 59/100\n",
      "10865/10865 [==============================] - 0s 37us/sample - loss: 0.5915 - acc: 0.3185\n",
      "Epoch 60/100\n",
      "10865/10865 [==============================] - 0s 35us/sample - loss: 0.5908 - acc: 0.3182\n",
      "Epoch 61/100\n",
      "10865/10865 [==============================] - 0s 35us/sample - loss: 0.5908 - acc: 0.3148\n",
      "Epoch 62/100\n",
      "10865/10865 [==============================] - 0s 35us/sample - loss: 0.5905 - acc: 0.3096\n",
      "Epoch 63/100\n",
      "10865/10865 [==============================] - 0s 37us/sample - loss: 0.5902 - acc: 0.3011\n",
      "Epoch 64/100\n",
      "10865/10865 [==============================] - 0s 35us/sample - loss: 0.5906 - acc: 0.3082\n",
      "Epoch 65/100\n",
      "10865/10865 [==============================] - 0s 35us/sample - loss: 0.5902 - acc: 0.3161\n",
      "Epoch 66/100\n",
      "10865/10865 [==============================] - 0s 37us/sample - loss: 0.5909 - acc: 0.3098\n",
      "Epoch 67/100\n",
      "10865/10865 [==============================] - 0s 34us/sample - loss: 0.5894 - acc: 0.3060\n",
      "Epoch 68/100\n",
      "10865/10865 [==============================] - 0s 35us/sample - loss: 0.5905 - acc: 0.3036\n",
      "Epoch 69/100\n",
      "10865/10865 [==============================] - 0s 35us/sample - loss: 0.5897 - acc: 0.3058\n",
      "Epoch 70/100\n",
      "10865/10865 [==============================] - 0s 35us/sample - loss: 0.5905 - acc: 0.3059\n",
      "Epoch 71/100\n",
      "10865/10865 [==============================] - 0s 34us/sample - loss: 0.5900 - acc: 0.2927\n",
      "Epoch 72/100\n",
      "10865/10865 [==============================] - 0s 34us/sample - loss: 0.5896 - acc: 0.3098\n",
      "Epoch 73/100\n",
      "10865/10865 [==============================] - 0s 35us/sample - loss: 0.5890 - acc: 0.3122\n",
      "Epoch 74/100\n",
      "10865/10865 [==============================] - 0s 35us/sample - loss: 0.5902 - acc: 0.2970\n",
      "Epoch 75/100\n",
      "10865/10865 [==============================] - 0s 34us/sample - loss: 0.5885 - acc: 0.3003\n",
      "Epoch 76/100\n",
      "10865/10865 [==============================] - 0s 34us/sample - loss: 0.5896 - acc: 0.3035\n",
      "Epoch 77/100\n",
      "10865/10865 [==============================] - 0s 35us/sample - loss: 0.5890 - acc: 0.2896\n",
      "Epoch 78/100\n",
      "10865/10865 [==============================] - 0s 34us/sample - loss: 0.5890 - acc: 0.2879\n",
      "Epoch 79/100\n",
      "10865/10865 [==============================] - 0s 36us/sample - loss: 0.5888 - acc: 0.2763\n",
      "Epoch 80/100\n",
      "10865/10865 [==============================] - 0s 34us/sample - loss: 0.5886 - acc: 0.2748\n",
      "Epoch 81/100\n",
      "10865/10865 [==============================] - 0s 34us/sample - loss: 0.5894 - acc: 0.2608\n",
      "Epoch 82/100\n",
      "10865/10865 [==============================] - 0s 35us/sample - loss: 0.5892 - acc: 0.2689\n",
      "Epoch 83/100\n",
      "10865/10865 [==============================] - 0s 35us/sample - loss: 0.5885 - acc: 0.2512\n",
      "Epoch 84/100\n",
      "10865/10865 [==============================] - 0s 33us/sample - loss: 0.5888 - acc: 0.2572\n",
      "Epoch 85/100\n",
      "10865/10865 [==============================] - 0s 34us/sample - loss: 0.5889 - acc: 0.2491\n",
      "Epoch 86/100\n",
      "10865/10865 [==============================] - 0s 35us/sample - loss: 0.5887 - acc: 0.2431\n",
      "Epoch 87/100\n",
      "10865/10865 [==============================] - 0s 34us/sample - loss: 0.5880 - acc: 0.2385\n",
      "Epoch 88/100\n",
      "10865/10865 [==============================] - 0s 35us/sample - loss: 0.5882 - acc: 0.2319\n",
      "Epoch 89/100\n",
      "10865/10865 [==============================] - 0s 36us/sample - loss: 0.5888 - acc: 0.2288\n",
      "Epoch 90/100\n",
      "10865/10865 [==============================] - 0s 34us/sample - loss: 0.5882 - acc: 0.2381\n",
      "Epoch 91/100\n",
      "10865/10865 [==============================] - 0s 34us/sample - loss: 0.5877 - acc: 0.2312\n",
      "Epoch 92/100\n",
      "10865/10865 [==============================] - 0s 35us/sample - loss: 0.5877 - acc: 0.2257\n",
      "Epoch 93/100\n",
      "10865/10865 [==============================] - 0s 38us/sample - loss: 0.5879 - acc: 0.2284\n",
      "Epoch 94/100\n",
      "10865/10865 [==============================] - 0s 33us/sample - loss: 0.5879 - acc: 0.2199\n",
      "Epoch 95/100\n",
      "10865/10865 [==============================] - 0s 35us/sample - loss: 0.5873 - acc: 0.2121\n",
      "Epoch 96/100\n",
      "10865/10865 [==============================] - 0s 35us/sample - loss: 0.5881 - acc: 0.2140\n",
      "Epoch 97/100\n",
      "10865/10865 [==============================] - 0s 34us/sample - loss: 0.5871 - acc: 0.2124\n",
      "Epoch 98/100\n",
      "10865/10865 [==============================] - 0s 34us/sample - loss: 0.5866 - acc: 0.2098\n",
      "Epoch 99/100\n",
      "10865/10865 [==============================] - 0s 35us/sample - loss: 0.5873 - acc: 0.2067\n",
      "Epoch 100/100\n",
      "10865/10865 [==============================] - 0s 34us/sample - loss: 0.5872 - acc: 0.2062\n"
     ]
    },
    {
     "data": {
      "text/plain": [
       "<tensorflow.python.keras.callbacks.History at 0x2abc9ff2988>"
      ]
     },
     "execution_count": 38,
     "metadata": {},
     "output_type": "execute_result"
    }
   ],
   "source": [
    "model.fit(X_train,Y_train,epochs=100)"
   ]
  },
  {
   "cell_type": "code",
   "execution_count": null,
   "metadata": {},
   "outputs": [],
   "source": []
  }
 ],
 "metadata": {
  "kernelspec": {
   "display_name": "Python 3",
   "language": "python",
   "name": "python3"
  },
  "language_info": {
   "codemirror_mode": {
    "name": "ipython",
    "version": 3
   },
   "file_extension": ".py",
   "mimetype": "text/x-python",
   "name": "python",
   "nbconvert_exporter": "python",
   "pygments_lexer": "ipython3",
   "version": "3.7.4"
  }
 },
 "nbformat": 4,
 "nbformat_minor": 2
}
